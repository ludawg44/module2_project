{
 "cells": [
  {
   "cell_type": "markdown",
   "metadata": {},
   "source": [
    "# 2. Identify Datetimes for Split"
   ]
  },
  {
   "cell_type": "code",
   "execution_count": 8,
   "metadata": {},
   "outputs": [],
   "source": [
    "%store -r df"
   ]
  },
  {
   "cell_type": "markdown",
   "metadata": {},
   "source": [
    "We know we have a date column, but let's use some code from the class to verify. "
   ]
  },
  {
   "cell_type": "code",
   "execution_count": 2,
   "metadata": {},
   "outputs": [
    {
     "data": {
      "text/plain": [
       "(1067371, 1)"
      ]
     },
     "execution_count": 2,
     "metadata": {},
     "output_type": "execute_result"
    }
   ],
   "source": [
    "df.select_dtypes(include='datetime').shape"
   ]
  },
  {
   "cell_type": "code",
   "execution_count": 3,
   "metadata": {},
   "outputs": [],
   "source": [
    "def contains_date(column):\n",
    "#     remove nas first, potentially use all\n",
    "    regex_string = (r'^\\d{1,2}-\\d{1,2}-\\d{4}$|^\\d{4}-\\d{1,2}-\\d{1,2}$' + \n",
    "'|^\\d{1,2}\\/\\d{1,2}\\/\\d{4}$|^\\d{4}\\/\\d{1,2}\\/\\d{1,2}$')\n",
    "    return column.str.contains(regex_string).any()"
   ]
  },
  {
   "cell_type": "code",
   "execution_count": 4,
   "metadata": {},
   "outputs": [],
   "source": [
    "contains_date = df.apply(lambda col: contains_date(col))"
   ]
  },
  {
   "cell_type": "code",
   "execution_count": 5,
   "metadata": {},
   "outputs": [
    {
     "data": {
      "text/html": [
       "<div>\n",
       "<style scoped>\n",
       "    .dataframe tbody tr th:only-of-type {\n",
       "        vertical-align: middle;\n",
       "    }\n",
       "\n",
       "    .dataframe tbody tr th {\n",
       "        vertical-align: top;\n",
       "    }\n",
       "\n",
       "    .dataframe thead th {\n",
       "        text-align: right;\n",
       "    }\n",
       "</style>\n",
       "<table border=\"1\" class=\"dataframe\">\n",
       "  <thead>\n",
       "    <tr style=\"text-align: right;\">\n",
       "      <th></th>\n",
       "    </tr>\n",
       "  </thead>\n",
       "  <tbody>\n",
       "    <tr>\n",
       "      <th>0</th>\n",
       "    </tr>\n",
       "    <tr>\n",
       "      <th>1</th>\n",
       "    </tr>\n",
       "    <tr>\n",
       "      <th>2</th>\n",
       "    </tr>\n",
       "  </tbody>\n",
       "</table>\n",
       "</div>"
      ],
      "text/plain": [
       "Empty DataFrame\n",
       "Columns: []\n",
       "Index: [0, 1, 2]"
      ]
     },
     "execution_count": 5,
     "metadata": {},
     "output_type": "execute_result"
    }
   ],
   "source": [
    "df[contains_date[contains_date == True].index][:3]"
   ]
  },
  {
   "cell_type": "markdown",
   "metadata": {},
   "source": [
    "This shows us that we have zero columns with dates. Before I move to splitting the data, I feel obligated to correct the date column. "
   ]
  },
  {
   "cell_type": "code",
   "execution_count": 9,
   "metadata": {},
   "outputs": [
    {
     "data": {
      "text/html": [
       "<div>\n",
       "<style scoped>\n",
       "    .dataframe tbody tr th:only-of-type {\n",
       "        vertical-align: middle;\n",
       "    }\n",
       "\n",
       "    .dataframe tbody tr th {\n",
       "        vertical-align: top;\n",
       "    }\n",
       "\n",
       "    .dataframe thead th {\n",
       "        text-align: right;\n",
       "    }\n",
       "</style>\n",
       "<table border=\"1\" class=\"dataframe\">\n",
       "  <thead>\n",
       "    <tr style=\"text-align: right;\">\n",
       "      <th></th>\n",
       "      <th>invoice</th>\n",
       "      <th>stockcode</th>\n",
       "      <th>description</th>\n",
       "      <th>quantity</th>\n",
       "      <th>invoicedate</th>\n",
       "      <th>price</th>\n",
       "      <th>customer_id</th>\n",
       "      <th>country</th>\n",
       "    </tr>\n",
       "  </thead>\n",
       "  <tbody>\n",
       "    <tr>\n",
       "      <th>0</th>\n",
       "      <td>489434</td>\n",
       "      <td>85048</td>\n",
       "      <td>15CM CHRISTMAS GLASS BALL 20 LIGHTS</td>\n",
       "      <td>12</td>\n",
       "      <td>2009-12-01 07:45:00</td>\n",
       "      <td>6.95</td>\n",
       "      <td>13085.0</td>\n",
       "      <td>United Kingdom</td>\n",
       "    </tr>\n",
       "    <tr>\n",
       "      <th>1</th>\n",
       "      <td>489434</td>\n",
       "      <td>79323P</td>\n",
       "      <td>PINK CHERRY LIGHTS</td>\n",
       "      <td>12</td>\n",
       "      <td>2009-12-01 07:45:00</td>\n",
       "      <td>6.75</td>\n",
       "      <td>13085.0</td>\n",
       "      <td>United Kingdom</td>\n",
       "    </tr>\n",
       "    <tr>\n",
       "      <th>2</th>\n",
       "      <td>489434</td>\n",
       "      <td>79323W</td>\n",
       "      <td>WHITE CHERRY LIGHTS</td>\n",
       "      <td>12</td>\n",
       "      <td>2009-12-01 07:45:00</td>\n",
       "      <td>6.75</td>\n",
       "      <td>13085.0</td>\n",
       "      <td>United Kingdom</td>\n",
       "    </tr>\n",
       "  </tbody>\n",
       "</table>\n",
       "</div>"
      ],
      "text/plain": [
       "  invoice stockcode                          description  quantity  \\\n",
       "0  489434     85048  15CM CHRISTMAS GLASS BALL 20 LIGHTS        12   \n",
       "1  489434    79323P                   PINK CHERRY LIGHTS        12   \n",
       "2  489434    79323W                  WHITE CHERRY LIGHTS        12   \n",
       "\n",
       "           invoicedate  price  customer_id         country  \n",
       "0  2009-12-01 07:45:00   6.95      13085.0  United Kingdom  \n",
       "1  2009-12-01 07:45:00   6.75      13085.0  United Kingdom  \n",
       "2  2009-12-01 07:45:00   6.75      13085.0  United Kingdom  "
      ]
     },
     "execution_count": 9,
     "metadata": {},
     "output_type": "execute_result"
    }
   ],
   "source": [
    "# Let's revist the data frame\n",
    "df[:3]"
   ]
  },
  {
   "cell_type": "code",
   "execution_count": 12,
   "metadata": {},
   "outputs": [],
   "source": [
    "import pandas as pd\n",
    "\n",
    "# Initiates the `date_column` into a datetime object. \n",
    "date_column = pd.to_datetime(df.invoicedate)"
   ]
  },
  {
   "cell_type": "code",
   "execution_count": 13,
   "metadata": {},
   "outputs": [],
   "source": [
    "# Adds the new column at the end of a renamed data frame\n",
    "date_df = df.assign(date_and_time = date_column)"
   ]
  },
  {
   "cell_type": "code",
   "execution_count": 14,
   "metadata": {},
   "outputs": [],
   "source": [
    "# Adds only the date at the end of the data frame as a column\n",
    "date_df['date'] = date_df['date_and_time'].dt.date"
   ]
  },
  {
   "cell_type": "code",
   "execution_count": 15,
   "metadata": {},
   "outputs": [],
   "source": [
    "# Adds only the time at the end of the data frame as a column\n",
    "date_df['time'] = date_df['date_and_time'].dt.time"
   ]
  },
  {
   "cell_type": "code",
   "execution_count": 16,
   "metadata": {},
   "outputs": [
    {
     "data": {
      "text/html": [
       "<div>\n",
       "<style scoped>\n",
       "    .dataframe tbody tr th:only-of-type {\n",
       "        vertical-align: middle;\n",
       "    }\n",
       "\n",
       "    .dataframe tbody tr th {\n",
       "        vertical-align: top;\n",
       "    }\n",
       "\n",
       "    .dataframe thead th {\n",
       "        text-align: right;\n",
       "    }\n",
       "</style>\n",
       "<table border=\"1\" class=\"dataframe\">\n",
       "  <thead>\n",
       "    <tr style=\"text-align: right;\">\n",
       "      <th></th>\n",
       "      <th>invoice</th>\n",
       "      <th>stockcode</th>\n",
       "      <th>description</th>\n",
       "      <th>quantity</th>\n",
       "      <th>invoicedate</th>\n",
       "      <th>price</th>\n",
       "      <th>customer_id</th>\n",
       "      <th>country</th>\n",
       "      <th>date_and_time</th>\n",
       "      <th>date</th>\n",
       "      <th>time</th>\n",
       "    </tr>\n",
       "  </thead>\n",
       "  <tbody>\n",
       "    <tr>\n",
       "      <th>0</th>\n",
       "      <td>489434</td>\n",
       "      <td>85048</td>\n",
       "      <td>15CM CHRISTMAS GLASS BALL 20 LIGHTS</td>\n",
       "      <td>12</td>\n",
       "      <td>2009-12-01 07:45:00</td>\n",
       "      <td>6.95</td>\n",
       "      <td>13085.0</td>\n",
       "      <td>United Kingdom</td>\n",
       "      <td>2009-12-01 07:45:00</td>\n",
       "      <td>2009-12-01</td>\n",
       "      <td>07:45:00</td>\n",
       "    </tr>\n",
       "    <tr>\n",
       "      <th>1</th>\n",
       "      <td>489434</td>\n",
       "      <td>79323P</td>\n",
       "      <td>PINK CHERRY LIGHTS</td>\n",
       "      <td>12</td>\n",
       "      <td>2009-12-01 07:45:00</td>\n",
       "      <td>6.75</td>\n",
       "      <td>13085.0</td>\n",
       "      <td>United Kingdom</td>\n",
       "      <td>2009-12-01 07:45:00</td>\n",
       "      <td>2009-12-01</td>\n",
       "      <td>07:45:00</td>\n",
       "    </tr>\n",
       "    <tr>\n",
       "      <th>2</th>\n",
       "      <td>489434</td>\n",
       "      <td>79323W</td>\n",
       "      <td>WHITE CHERRY LIGHTS</td>\n",
       "      <td>12</td>\n",
       "      <td>2009-12-01 07:45:00</td>\n",
       "      <td>6.75</td>\n",
       "      <td>13085.0</td>\n",
       "      <td>United Kingdom</td>\n",
       "      <td>2009-12-01 07:45:00</td>\n",
       "      <td>2009-12-01</td>\n",
       "      <td>07:45:00</td>\n",
       "    </tr>\n",
       "  </tbody>\n",
       "</table>\n",
       "</div>"
      ],
      "text/plain": [
       "  invoice stockcode                          description  quantity  \\\n",
       "0  489434     85048  15CM CHRISTMAS GLASS BALL 20 LIGHTS        12   \n",
       "1  489434    79323P                   PINK CHERRY LIGHTS        12   \n",
       "2  489434    79323W                  WHITE CHERRY LIGHTS        12   \n",
       "\n",
       "           invoicedate  price  customer_id         country  \\\n",
       "0  2009-12-01 07:45:00   6.95      13085.0  United Kingdom   \n",
       "1  2009-12-01 07:45:00   6.75      13085.0  United Kingdom   \n",
       "2  2009-12-01 07:45:00   6.75      13085.0  United Kingdom   \n",
       "\n",
       "        date_and_time        date      time  \n",
       "0 2009-12-01 07:45:00  2009-12-01  07:45:00  \n",
       "1 2009-12-01 07:45:00  2009-12-01  07:45:00  \n",
       "2 2009-12-01 07:45:00  2009-12-01  07:45:00  "
      ]
     },
     "execution_count": 16,
     "metadata": {},
     "output_type": "execute_result"
    }
   ],
   "source": [
    "# Revisite the date_df\n",
    "date_df[:3]"
   ]
  },
  {
   "cell_type": "code",
   "execution_count": 20,
   "metadata": {},
   "outputs": [
    {
     "data": {
      "text/plain": [
       "invoice                  object\n",
       "stockcode                object\n",
       "description              object\n",
       "quantity                  int64\n",
       "invoicedate              object\n",
       "price                   float64\n",
       "customer_id             float64\n",
       "country                  object\n",
       "date_and_time    datetime64[ns]\n",
       "date             datetime64[ns]\n",
       "time                     object\n",
       "dtype: object"
      ]
     },
     "execution_count": 20,
     "metadata": {},
     "output_type": "execute_result"
    }
   ],
   "source": [
    "# Let's confirm we transformed date_and_time into datetime64\n",
    "date_df.dtypes"
   ]
  },
  {
   "cell_type": "code",
   "execution_count": 23,
   "metadata": {},
   "outputs": [],
   "source": [
    "# Seems only logical we do it to the `date` column as well\n",
    "date_df['date'] = pd.to_datetime(date_df['date'])\n",
    "\n",
    "# Converting date into a numerical value, as per [here]\n",
    "#(https://stackoverflow.com/questions/40217369/python-linear-regression-predict-by-date).\n",
    "#date_df['date'] = date_df['date'].map(dt.datetime.toordinal)"
   ]
  },
  {
   "cell_type": "code",
   "execution_count": 24,
   "metadata": {},
   "outputs": [
    {
     "data": {
      "text/plain": [
       "invoice                  object\n",
       "stockcode                object\n",
       "description              object\n",
       "quantity                  int64\n",
       "invoicedate              object\n",
       "price                   float64\n",
       "customer_id             float64\n",
       "country                  object\n",
       "date_and_time    datetime64[ns]\n",
       "date             datetime64[ns]\n",
       "time                     object\n",
       "dtype: object"
      ]
     },
     "execution_count": 24,
     "metadata": {},
     "output_type": "execute_result"
    }
   ],
   "source": [
    "date_df.dtypes"
   ]
  },
  {
   "cell_type": "code",
   "execution_count": 25,
   "metadata": {},
   "outputs": [
    {
     "data": {
      "text/html": [
       "<div>\n",
       "<style scoped>\n",
       "    .dataframe tbody tr th:only-of-type {\n",
       "        vertical-align: middle;\n",
       "    }\n",
       "\n",
       "    .dataframe tbody tr th {\n",
       "        vertical-align: top;\n",
       "    }\n",
       "\n",
       "    .dataframe thead th {\n",
       "        text-align: right;\n",
       "    }\n",
       "</style>\n",
       "<table border=\"1\" class=\"dataframe\">\n",
       "  <thead>\n",
       "    <tr style=\"text-align: right;\">\n",
       "      <th></th>\n",
       "      <th>invoice</th>\n",
       "      <th>stockcode</th>\n",
       "      <th>description</th>\n",
       "      <th>quantity</th>\n",
       "      <th>invoicedate</th>\n",
       "      <th>price</th>\n",
       "      <th>customer_id</th>\n",
       "      <th>country</th>\n",
       "      <th>date_and_time</th>\n",
       "      <th>date</th>\n",
       "      <th>time</th>\n",
       "    </tr>\n",
       "  </thead>\n",
       "  <tbody>\n",
       "    <tr>\n",
       "      <th>0</th>\n",
       "      <td>489434</td>\n",
       "      <td>85048</td>\n",
       "      <td>15CM CHRISTMAS GLASS BALL 20 LIGHTS</td>\n",
       "      <td>12</td>\n",
       "      <td>2009-12-01 07:45:00</td>\n",
       "      <td>6.95</td>\n",
       "      <td>13085.0</td>\n",
       "      <td>United Kingdom</td>\n",
       "      <td>2009-12-01 07:45:00</td>\n",
       "      <td>2009-12-01</td>\n",
       "      <td>07:45:00</td>\n",
       "    </tr>\n",
       "    <tr>\n",
       "      <th>1</th>\n",
       "      <td>489434</td>\n",
       "      <td>79323P</td>\n",
       "      <td>PINK CHERRY LIGHTS</td>\n",
       "      <td>12</td>\n",
       "      <td>2009-12-01 07:45:00</td>\n",
       "      <td>6.75</td>\n",
       "      <td>13085.0</td>\n",
       "      <td>United Kingdom</td>\n",
       "      <td>2009-12-01 07:45:00</td>\n",
       "      <td>2009-12-01</td>\n",
       "      <td>07:45:00</td>\n",
       "    </tr>\n",
       "    <tr>\n",
       "      <th>2</th>\n",
       "      <td>489434</td>\n",
       "      <td>79323W</td>\n",
       "      <td>WHITE CHERRY LIGHTS</td>\n",
       "      <td>12</td>\n",
       "      <td>2009-12-01 07:45:00</td>\n",
       "      <td>6.75</td>\n",
       "      <td>13085.0</td>\n",
       "      <td>United Kingdom</td>\n",
       "      <td>2009-12-01 07:45:00</td>\n",
       "      <td>2009-12-01</td>\n",
       "      <td>07:45:00</td>\n",
       "    </tr>\n",
       "    <tr>\n",
       "      <th>3</th>\n",
       "      <td>489434</td>\n",
       "      <td>22041</td>\n",
       "      <td>RECORD FRAME 7\" SINGLE SIZE</td>\n",
       "      <td>48</td>\n",
       "      <td>2009-12-01 07:45:00</td>\n",
       "      <td>2.10</td>\n",
       "      <td>13085.0</td>\n",
       "      <td>United Kingdom</td>\n",
       "      <td>2009-12-01 07:45:00</td>\n",
       "      <td>2009-12-01</td>\n",
       "      <td>07:45:00</td>\n",
       "    </tr>\n",
       "    <tr>\n",
       "      <th>4</th>\n",
       "      <td>489434</td>\n",
       "      <td>21232</td>\n",
       "      <td>STRAWBERRY CERAMIC TRINKET BOX</td>\n",
       "      <td>24</td>\n",
       "      <td>2009-12-01 07:45:00</td>\n",
       "      <td>1.25</td>\n",
       "      <td>13085.0</td>\n",
       "      <td>United Kingdom</td>\n",
       "      <td>2009-12-01 07:45:00</td>\n",
       "      <td>2009-12-01</td>\n",
       "      <td>07:45:00</td>\n",
       "    </tr>\n",
       "    <tr>\n",
       "      <th>...</th>\n",
       "      <td>...</td>\n",
       "      <td>...</td>\n",
       "      <td>...</td>\n",
       "      <td>...</td>\n",
       "      <td>...</td>\n",
       "      <td>...</td>\n",
       "      <td>...</td>\n",
       "      <td>...</td>\n",
       "      <td>...</td>\n",
       "      <td>...</td>\n",
       "      <td>...</td>\n",
       "    </tr>\n",
       "    <tr>\n",
       "      <th>95</th>\n",
       "      <td>489441</td>\n",
       "      <td>22111</td>\n",
       "      <td>SCOTTIE DOG HOT WATER BOTTLE</td>\n",
       "      <td>48</td>\n",
       "      <td>2009-12-01 09:44:00</td>\n",
       "      <td>4.25</td>\n",
       "      <td>18087.0</td>\n",
       "      <td>United Kingdom</td>\n",
       "      <td>2009-12-01 09:44:00</td>\n",
       "      <td>2009-12-01</td>\n",
       "      <td>09:44:00</td>\n",
       "    </tr>\n",
       "    <tr>\n",
       "      <th>96</th>\n",
       "      <td>489442</td>\n",
       "      <td>21955</td>\n",
       "      <td>UNION JACK GUNS &amp; ROSES  DOORMAT</td>\n",
       "      <td>2</td>\n",
       "      <td>2009-12-01 09:46:00</td>\n",
       "      <td>6.75</td>\n",
       "      <td>13635.0</td>\n",
       "      <td>United Kingdom</td>\n",
       "      <td>2009-12-01 09:46:00</td>\n",
       "      <td>2009-12-01</td>\n",
       "      <td>09:46:00</td>\n",
       "    </tr>\n",
       "    <tr>\n",
       "      <th>97</th>\n",
       "      <td>489442</td>\n",
       "      <td>22111</td>\n",
       "      <td>SCOTTIE DOG HOT WATER BOTTLE</td>\n",
       "      <td>3</td>\n",
       "      <td>2009-12-01 09:46:00</td>\n",
       "      <td>4.95</td>\n",
       "      <td>13635.0</td>\n",
       "      <td>United Kingdom</td>\n",
       "      <td>2009-12-01 09:46:00</td>\n",
       "      <td>2009-12-01</td>\n",
       "      <td>09:46:00</td>\n",
       "    </tr>\n",
       "    <tr>\n",
       "      <th>98</th>\n",
       "      <td>489442</td>\n",
       "      <td>22296</td>\n",
       "      <td>HEART IVORY TRELLIS LARGE</td>\n",
       "      <td>12</td>\n",
       "      <td>2009-12-01 09:46:00</td>\n",
       "      <td>1.65</td>\n",
       "      <td>13635.0</td>\n",
       "      <td>United Kingdom</td>\n",
       "      <td>2009-12-01 09:46:00</td>\n",
       "      <td>2009-12-01</td>\n",
       "      <td>09:46:00</td>\n",
       "    </tr>\n",
       "    <tr>\n",
       "      <th>99</th>\n",
       "      <td>489442</td>\n",
       "      <td>84899E</td>\n",
       "      <td>YELLOW + BROWN BEAR FELT PURSE KIT</td>\n",
       "      <td>12</td>\n",
       "      <td>2009-12-01 09:46:00</td>\n",
       "      <td>1.25</td>\n",
       "      <td>13635.0</td>\n",
       "      <td>United Kingdom</td>\n",
       "      <td>2009-12-01 09:46:00</td>\n",
       "      <td>2009-12-01</td>\n",
       "      <td>09:46:00</td>\n",
       "    </tr>\n",
       "  </tbody>\n",
       "</table>\n",
       "<p>100 rows × 11 columns</p>\n",
       "</div>"
      ],
      "text/plain": [
       "   invoice stockcode                          description  quantity  \\\n",
       "0   489434     85048  15CM CHRISTMAS GLASS BALL 20 LIGHTS        12   \n",
       "1   489434    79323P                   PINK CHERRY LIGHTS        12   \n",
       "2   489434    79323W                  WHITE CHERRY LIGHTS        12   \n",
       "3   489434     22041         RECORD FRAME 7\" SINGLE SIZE         48   \n",
       "4   489434     21232       STRAWBERRY CERAMIC TRINKET BOX        24   \n",
       "..     ...       ...                                  ...       ...   \n",
       "95  489441     22111         SCOTTIE DOG HOT WATER BOTTLE        48   \n",
       "96  489442     21955     UNION JACK GUNS & ROSES  DOORMAT         2   \n",
       "97  489442     22111         SCOTTIE DOG HOT WATER BOTTLE         3   \n",
       "98  489442     22296            HEART IVORY TRELLIS LARGE        12   \n",
       "99  489442    84899E   YELLOW + BROWN BEAR FELT PURSE KIT        12   \n",
       "\n",
       "            invoicedate  price  customer_id         country  \\\n",
       "0   2009-12-01 07:45:00   6.95      13085.0  United Kingdom   \n",
       "1   2009-12-01 07:45:00   6.75      13085.0  United Kingdom   \n",
       "2   2009-12-01 07:45:00   6.75      13085.0  United Kingdom   \n",
       "3   2009-12-01 07:45:00   2.10      13085.0  United Kingdom   \n",
       "4   2009-12-01 07:45:00   1.25      13085.0  United Kingdom   \n",
       "..                  ...    ...          ...             ...   \n",
       "95  2009-12-01 09:44:00   4.25      18087.0  United Kingdom   \n",
       "96  2009-12-01 09:46:00   6.75      13635.0  United Kingdom   \n",
       "97  2009-12-01 09:46:00   4.95      13635.0  United Kingdom   \n",
       "98  2009-12-01 09:46:00   1.65      13635.0  United Kingdom   \n",
       "99  2009-12-01 09:46:00   1.25      13635.0  United Kingdom   \n",
       "\n",
       "         date_and_time       date      time  \n",
       "0  2009-12-01 07:45:00 2009-12-01  07:45:00  \n",
       "1  2009-12-01 07:45:00 2009-12-01  07:45:00  \n",
       "2  2009-12-01 07:45:00 2009-12-01  07:45:00  \n",
       "3  2009-12-01 07:45:00 2009-12-01  07:45:00  \n",
       "4  2009-12-01 07:45:00 2009-12-01  07:45:00  \n",
       "..                 ...        ...       ...  \n",
       "95 2009-12-01 09:44:00 2009-12-01  09:44:00  \n",
       "96 2009-12-01 09:46:00 2009-12-01  09:46:00  \n",
       "97 2009-12-01 09:46:00 2009-12-01  09:46:00  \n",
       "98 2009-12-01 09:46:00 2009-12-01  09:46:00  \n",
       "99 2009-12-01 09:46:00 2009-12-01  09:46:00  \n",
       "\n",
       "[100 rows x 11 columns]"
      ]
     },
     "execution_count": 25,
     "metadata": {},
     "output_type": "execute_result"
    }
   ],
   "source": [
    "date_df.head(100)"
   ]
  },
  {
   "cell_type": "code",
   "execution_count": 26,
   "metadata": {},
   "outputs": [
    {
     "name": "stdout",
     "output_type": "stream",
     "text": [
      "Stored 'date_df' (DataFrame)\n"
     ]
    }
   ],
   "source": [
    "# Storing date_df \n",
    "%store date_df"
   ]
  },
  {
   "cell_type": "markdown",
   "metadata": {},
   "source": [
    "### Analyzing date column"
   ]
  },
  {
   "cell_type": "code",
   "execution_count": 117,
   "metadata": {},
   "outputs": [
    {
     "data": {
      "image/png": "[encoded data removed]",
      "text/plain": [
       "<Figure size 432x288 with 1 Axes>"
      ]
     },
     "metadata": {
      "needs_background": "light"
     },
     "output_type": "display_data"
    }
   ],
   "source": [
    "import matplotlib.pyplot as plt\n",
    "\n",
    "# Selected 12 bins to reflect quarters for 2009, 2010, 2011\n",
    "date_df.date.hist(bins = 12)\n",
    "plt.xticks(rotation=45)\n",
    "plt.xlabel('Date')\n",
    "plt.ylabel('Count')\n",
    "plt.title('2009-2011 Date count by quarter');"
   ]
  },
  {
   "cell_type": "markdown",
   "metadata": {},
   "source": [
    "We know we have 2009 data, but it doesn't seem to be showing in the graph. Perhaps there weren't a lot of enteries, but that will have to be uncovered later. The reason this is troubling is because it seems like there is a seasonal increase towards the end of the year in 2010 and in 2011. If we were going to select a time frame to select dates, then I'd like to see 2009's increase. Let's investigate further."
   ]
  },
  {
   "cell_type": "code",
   "execution_count": 115,
   "metadata": {},
   "outputs": [
    {
     "data": {
      "image/png": "[encoded data removed]",
      "text/plain": [
       "<Figure size 432x288 with 1 Axes>"
      ]
     },
     "metadata": {
      "needs_background": "light"
     },
     "output_type": "display_data"
    }
   ],
   "source": [
    "date_df.date.hist(bins = 150)\n",
    "plt.xticks(rotation=45)\n",
    "plt.xlabel('Date')\n",
    "plt.ylabel('Count')\n",
    "plt.title('2009-2011 Date count');"
   ]
  },
  {
   "cell_type": "markdown",
   "metadata": {},
   "source": [
    "Here we see that we have two peaks in data, both towards the year end quarter. This might explain why there are almost no 2009 bars, but, I'm not sure. "
   ]
  },
  {
   "cell_type": "code",
   "execution_count": 27,
   "metadata": {},
   "outputs": [],
   "source": [
    "start_date = '2009-01-01'\n",
    "end_date = '2009-12-31'"
   ]
  },
  {
   "cell_type": "code",
   "execution_count": 30,
   "metadata": {},
   "outputs": [
    {
     "data": {
      "text/html": [
       "<div>\n",
       "<style scoped>\n",
       "    .dataframe tbody tr th:only-of-type {\n",
       "        vertical-align: middle;\n",
       "    }\n",
       "\n",
       "    .dataframe tbody tr th {\n",
       "        vertical-align: top;\n",
       "    }\n",
       "\n",
       "    .dataframe thead th {\n",
       "        text-align: right;\n",
       "    }\n",
       "</style>\n",
       "<table border=\"1\" class=\"dataframe\">\n",
       "  <thead>\n",
       "    <tr style=\"text-align: right;\">\n",
       "      <th></th>\n",
       "      <th>invoice</th>\n",
       "      <th>stockcode</th>\n",
       "      <th>description</th>\n",
       "      <th>quantity</th>\n",
       "      <th>invoicedate</th>\n",
       "      <th>price</th>\n",
       "      <th>customer_id</th>\n",
       "      <th>country</th>\n",
       "      <th>date_and_time</th>\n",
       "      <th>date</th>\n",
       "      <th>time</th>\n",
       "    </tr>\n",
       "  </thead>\n",
       "  <tbody>\n",
       "    <tr>\n",
       "      <th>0</th>\n",
       "      <td>489434</td>\n",
       "      <td>85048</td>\n",
       "      <td>15CM CHRISTMAS GLASS BALL 20 LIGHTS</td>\n",
       "      <td>12</td>\n",
       "      <td>2009-12-01 07:45:00</td>\n",
       "      <td>6.95</td>\n",
       "      <td>13085.0</td>\n",
       "      <td>United Kingdom</td>\n",
       "      <td>2009-12-01 07:45:00</td>\n",
       "      <td>2009-12-01</td>\n",
       "      <td>07:45:00</td>\n",
       "    </tr>\n",
       "    <tr>\n",
       "      <th>1</th>\n",
       "      <td>489434</td>\n",
       "      <td>79323P</td>\n",
       "      <td>PINK CHERRY LIGHTS</td>\n",
       "      <td>12</td>\n",
       "      <td>2009-12-01 07:45:00</td>\n",
       "      <td>6.75</td>\n",
       "      <td>13085.0</td>\n",
       "      <td>United Kingdom</td>\n",
       "      <td>2009-12-01 07:45:00</td>\n",
       "      <td>2009-12-01</td>\n",
       "      <td>07:45:00</td>\n",
       "    </tr>\n",
       "    <tr>\n",
       "      <th>2</th>\n",
       "      <td>489434</td>\n",
       "      <td>79323W</td>\n",
       "      <td>WHITE CHERRY LIGHTS</td>\n",
       "      <td>12</td>\n",
       "      <td>2009-12-01 07:45:00</td>\n",
       "      <td>6.75</td>\n",
       "      <td>13085.0</td>\n",
       "      <td>United Kingdom</td>\n",
       "      <td>2009-12-01 07:45:00</td>\n",
       "      <td>2009-12-01</td>\n",
       "      <td>07:45:00</td>\n",
       "    </tr>\n",
       "    <tr>\n",
       "      <th>3</th>\n",
       "      <td>489434</td>\n",
       "      <td>22041</td>\n",
       "      <td>RECORD FRAME 7\" SINGLE SIZE</td>\n",
       "      <td>48</td>\n",
       "      <td>2009-12-01 07:45:00</td>\n",
       "      <td>2.10</td>\n",
       "      <td>13085.0</td>\n",
       "      <td>United Kingdom</td>\n",
       "      <td>2009-12-01 07:45:00</td>\n",
       "      <td>2009-12-01</td>\n",
       "      <td>07:45:00</td>\n",
       "    </tr>\n",
       "    <tr>\n",
       "      <th>4</th>\n",
       "      <td>489434</td>\n",
       "      <td>21232</td>\n",
       "      <td>STRAWBERRY CERAMIC TRINKET BOX</td>\n",
       "      <td>24</td>\n",
       "      <td>2009-12-01 07:45:00</td>\n",
       "      <td>1.25</td>\n",
       "      <td>13085.0</td>\n",
       "      <td>United Kingdom</td>\n",
       "      <td>2009-12-01 07:45:00</td>\n",
       "      <td>2009-12-01</td>\n",
       "      <td>07:45:00</td>\n",
       "    </tr>\n",
       "  </tbody>\n",
       "</table>\n",
       "</div>"
      ],
      "text/plain": [
       "  invoice stockcode                          description  quantity  \\\n",
       "0  489434     85048  15CM CHRISTMAS GLASS BALL 20 LIGHTS        12   \n",
       "1  489434    79323P                   PINK CHERRY LIGHTS        12   \n",
       "2  489434    79323W                  WHITE CHERRY LIGHTS        12   \n",
       "3  489434     22041         RECORD FRAME 7\" SINGLE SIZE         48   \n",
       "4  489434     21232       STRAWBERRY CERAMIC TRINKET BOX        24   \n",
       "\n",
       "           invoicedate  price  customer_id         country  \\\n",
       "0  2009-12-01 07:45:00   6.95      13085.0  United Kingdom   \n",
       "1  2009-12-01 07:45:00   6.75      13085.0  United Kingdom   \n",
       "2  2009-12-01 07:45:00   6.75      13085.0  United Kingdom   \n",
       "3  2009-12-01 07:45:00   2.10      13085.0  United Kingdom   \n",
       "4  2009-12-01 07:45:00   1.25      13085.0  United Kingdom   \n",
       "\n",
       "        date_and_time       date      time  \n",
       "0 2009-12-01 07:45:00 2009-12-01  07:45:00  \n",
       "1 2009-12-01 07:45:00 2009-12-01  07:45:00  \n",
       "2 2009-12-01 07:45:00 2009-12-01  07:45:00  \n",
       "3 2009-12-01 07:45:00 2009-12-01  07:45:00  \n",
       "4 2009-12-01 07:45:00 2009-12-01  07:45:00  "
      ]
     },
     "execution_count": 30,
     "metadata": {},
     "output_type": "execute_result"
    }
   ],
   "source": [
    "mask = date_df[(date_df['date'] > start_date) & (date_df['date'] <= end_date)]\n",
    "mask.head()"
   ]
  },
  {
   "cell_type": "code",
   "execution_count": 31,
   "metadata": {},
   "outputs": [
    {
     "data": {
      "text/html": [
       "<div>\n",
       "<style scoped>\n",
       "    .dataframe tbody tr th:only-of-type {\n",
       "        vertical-align: middle;\n",
       "    }\n",
       "\n",
       "    .dataframe tbody tr th {\n",
       "        vertical-align: top;\n",
       "    }\n",
       "\n",
       "    .dataframe thead th {\n",
       "        text-align: right;\n",
       "    }\n",
       "</style>\n",
       "<table border=\"1\" class=\"dataframe\">\n",
       "  <thead>\n",
       "    <tr style=\"text-align: right;\">\n",
       "      <th></th>\n",
       "      <th>invoice</th>\n",
       "      <th>stockcode</th>\n",
       "      <th>description</th>\n",
       "      <th>quantity</th>\n",
       "      <th>invoicedate</th>\n",
       "      <th>price</th>\n",
       "      <th>customer_id</th>\n",
       "      <th>country</th>\n",
       "      <th>date_and_time</th>\n",
       "      <th>date</th>\n",
       "      <th>time</th>\n",
       "    </tr>\n",
       "  </thead>\n",
       "  <tbody>\n",
       "    <tr>\n",
       "      <th>45223</th>\n",
       "      <td>493408</td>\n",
       "      <td>90058B</td>\n",
       "      <td>CRYSTAL STUD EARRINGS ASSORTED COL</td>\n",
       "      <td>1</td>\n",
       "      <td>2009-12-23 16:21:00</td>\n",
       "      <td>0.38</td>\n",
       "      <td>NaN</td>\n",
       "      <td>United Kingdom</td>\n",
       "      <td>2009-12-23 16:21:00</td>\n",
       "      <td>2009-12-23</td>\n",
       "      <td>16:21:00</td>\n",
       "    </tr>\n",
       "    <tr>\n",
       "      <th>45224</th>\n",
       "      <td>493408</td>\n",
       "      <td>21933</td>\n",
       "      <td>PINK VINTAGE PAISLEY PICNIC BAG</td>\n",
       "      <td>1</td>\n",
       "      <td>2009-12-23 16:21:00</td>\n",
       "      <td>2.95</td>\n",
       "      <td>NaN</td>\n",
       "      <td>United Kingdom</td>\n",
       "      <td>2009-12-23 16:21:00</td>\n",
       "      <td>2009-12-23</td>\n",
       "      <td>16:21:00</td>\n",
       "    </tr>\n",
       "    <tr>\n",
       "      <th>45225</th>\n",
       "      <td>493408</td>\n",
       "      <td>21937</td>\n",
       "      <td>STRAWBERRY   PICNIC BAG</td>\n",
       "      <td>1</td>\n",
       "      <td>2009-12-23 16:21:00</td>\n",
       "      <td>2.95</td>\n",
       "      <td>NaN</td>\n",
       "      <td>United Kingdom</td>\n",
       "      <td>2009-12-23 16:21:00</td>\n",
       "      <td>2009-12-23</td>\n",
       "      <td>16:21:00</td>\n",
       "    </tr>\n",
       "    <tr>\n",
       "      <th>45226</th>\n",
       "      <td>493408</td>\n",
       "      <td>21936</td>\n",
       "      <td>RED/WHITE SPOT PICNIC BAG</td>\n",
       "      <td>1</td>\n",
       "      <td>2009-12-23 16:21:00</td>\n",
       "      <td>2.95</td>\n",
       "      <td>NaN</td>\n",
       "      <td>United Kingdom</td>\n",
       "      <td>2009-12-23 16:21:00</td>\n",
       "      <td>2009-12-23</td>\n",
       "      <td>16:21:00</td>\n",
       "    </tr>\n",
       "    <tr>\n",
       "      <th>45227</th>\n",
       "      <td>493409</td>\n",
       "      <td>20747</td>\n",
       "      <td>PICCADILLY TEA SET</td>\n",
       "      <td>48</td>\n",
       "      <td>2009-12-23 16:58:00</td>\n",
       "      <td>12.75</td>\n",
       "      <td>17819.0</td>\n",
       "      <td>United Kingdom</td>\n",
       "      <td>2009-12-23 16:58:00</td>\n",
       "      <td>2009-12-23</td>\n",
       "      <td>16:58:00</td>\n",
       "    </tr>\n",
       "  </tbody>\n",
       "</table>\n",
       "</div>"
      ],
      "text/plain": [
       "      invoice stockcode                          description  quantity  \\\n",
       "45223  493408    90058B  CRYSTAL STUD EARRINGS ASSORTED COL          1   \n",
       "45224  493408     21933      PINK VINTAGE PAISLEY PICNIC BAG         1   \n",
       "45225  493408     21937              STRAWBERRY   PICNIC BAG         1   \n",
       "45226  493408     21936            RED/WHITE SPOT PICNIC BAG         1   \n",
       "45227  493409     20747                   PICCADILLY TEA SET        48   \n",
       "\n",
       "               invoicedate  price  customer_id         country  \\\n",
       "45223  2009-12-23 16:21:00   0.38          NaN  United Kingdom   \n",
       "45224  2009-12-23 16:21:00   2.95          NaN  United Kingdom   \n",
       "45225  2009-12-23 16:21:00   2.95          NaN  United Kingdom   \n",
       "45226  2009-12-23 16:21:00   2.95          NaN  United Kingdom   \n",
       "45227  2009-12-23 16:58:00  12.75      17819.0  United Kingdom   \n",
       "\n",
       "            date_and_time       date      time  \n",
       "45223 2009-12-23 16:21:00 2009-12-23  16:21:00  \n",
       "45224 2009-12-23 16:21:00 2009-12-23  16:21:00  \n",
       "45225 2009-12-23 16:21:00 2009-12-23  16:21:00  \n",
       "45226 2009-12-23 16:21:00 2009-12-23  16:21:00  \n",
       "45227 2009-12-23 16:58:00 2009-12-23  16:58:00  "
      ]
     },
     "execution_count": 31,
     "metadata": {},
     "output_type": "execute_result"
    }
   ],
   "source": [
    "mask.tail()"
   ]
  },
  {
   "cell_type": "code",
   "execution_count": 33,
   "metadata": {},
   "outputs": [
    {
     "data": {
      "image/png": "[encoded data removed]",
      "text/plain": [
       "<Figure size 432x288 with 1 Axes>"
      ]
     },
     "metadata": {
      "needs_background": "light"
     },
     "output_type": "display_data"
    }
   ],
   "source": [
    "import matplotlib.pyplot as plt\n",
    "\n",
    "mask.date.hist(bins=12)\n",
    "plt.xticks(rotation=45)\n",
    "plt.xlabel('Date')\n",
    "plt.ylabel('Count')\n",
    "plt.title('2009 Date count by month');"
   ]
  },
  {
   "cell_type": "markdown",
   "metadata": {},
   "source": [
    "Okay, so there are 2009 entries in this data set, there just isn't a substantial number to be visual on the original graph. What's unfortunate is that there wasn't a large seasonal spike like in 2010 and in 2011. Let's continue our date analysis."
   ]
  },
  {
   "cell_type": "code",
   "execution_count": 35,
   "metadata": {},
   "outputs": [
    {
     "data": {
      "text/plain": [
       "4.649387727416239"
      ]
     },
     "execution_count": 35,
     "metadata": {},
     "output_type": "execute_result"
    }
   ],
   "source": [
    "date_df.price.mean()"
   ]
  },
  {
   "cell_type": "code",
   "execution_count": 36,
   "metadata": {},
   "outputs": [
    {
     "data": {
      "image/png": "[encoded data removed]",
      "text/plain": [
       "<Figure size 432x288 with 1 Axes>"
      ]
     },
     "metadata": {
      "needs_background": "light"
     },
     "output_type": "display_data"
    }
   ],
   "source": [
    "fig = plt.figure()\n",
    "ax = fig.add_subplot(111)\n",
    "ax.scatter(x=date_df.date, y=date_df.price)\n",
    "plt.xticks(rotation=45)\n",
    "plt.xlabel('Date')\n",
    "plt.ylabel('Price')\n",
    "plt.title('Price count by date')\n",
    "plt.show();"
   ]
  },
  {
   "cell_type": "code",
   "execution_count": 121,
   "metadata": {},
   "outputs": [
    {
     "data": {
      "text/plain": [
       "9.9388984711033"
      ]
     },
     "execution_count": 121,
     "metadata": {},
     "output_type": "execute_result"
    }
   ],
   "source": [
    "date_df.Quantity.mean()"
   ]
  },
  {
   "cell_type": "code",
   "execution_count": 113,
   "metadata": {},
   "outputs": [
    {
     "data": {
      "image/png": "[encoded data removed]",
      "text/plain": [
       "<Figure size 432x288 with 1 Axes>"
      ]
     },
     "metadata": {
      "needs_background": "light"
     },
     "output_type": "display_data"
    }
   ],
   "source": [
    "fig = plt.figure()\n",
    "ax = fig.add_subplot(111)\n",
    "ax.scatter(x=date_df.date, y=date_df.Quantity)\n",
    "plt.xticks(rotation=45)\n",
    "plt.xlabel('Date')\n",
    "plt.ylabel('Quanity')\n",
    "plt.title('Quantity count by date')\n",
    "plt.show();"
   ]
  },
  {
   "cell_type": "markdown",
   "metadata": {},
   "source": [
    "Right now I'm thinking that there are some outliers that I'll have to clear. It doesn't make snese that Price or Quantity should be negative. \n",
    "\n",
    "Additionally, I think I'll have to see how to divide the train and test split. If I understand correctly, the example from class took the IMBD movie dataset and it grabbed the most recent movies (I'm not sure how it selected it). The reason is that there was a greater concentration of movies in the dataset that were from the past, say 20 to 30 years. I Googled how deal with this, but not that hard. I got a forecasting on training set link, but that's in R. I'm not sure this is the right path, but I'm interested. \n",
    "\n",
    "- [link 1](https://otexts.com/fpp2/forecasting-on-training-and-test-sets.html)\n",
    "    - [link 2 in Python](https://www.machinelearningplus.com/time-series/arima-model-time-series-forecasting-python/)\n",
    " "
   ]
  },
  {
   "cell_type": "code",
   "execution_count": null,
   "metadata": {},
   "outputs": [],
   "source": []
  },
  {
   "cell_type": "code",
   "execution_count": null,
   "metadata": {},
   "outputs": [],
   "source": []
  },
  {
   "cell_type": "code",
   "execution_count": null,
   "metadata": {},
   "outputs": [],
   "source": []
  },
  {
   "cell_type": "code",
   "execution_count": null,
   "metadata": {},
   "outputs": [],
   "source": []
  },
  {
   "cell_type": "code",
   "execution_count": null,
   "metadata": {},
   "outputs": [],
   "source": []
  },
  {
   "cell_type": "code",
   "execution_count": null,
   "metadata": {},
   "outputs": [],
   "source": []
  },
  {
   "cell_type": "markdown",
   "metadata": {},
   "source": [
    "*** Things to do ***\n",
    "\n",
    "Find the file that explains why you want to look at the date. Understand the reasoning and apply it here. You'll be asked to find this later on in step 5, but you might as well get a head start. \n",
    "\n",
    "USE THIS LINK: https://www.kaggle.com/rgrajan/time-series-exploratory-data-analysis-forecast\n",
    "\n",
    "*** Things to do ***"
   ]
  },
  {
   "cell_type": "markdown",
   "metadata": {},
   "source": [
    "Next up, let's deal with numerical values. \n",
    "\n",
    "1. Target Value Identification and Exploration\n",
    "\n",
    "2. Identify Datetimes for Split\n",
    "\n",
    "3. **Numerical Values and DateTime Values**\n",
    "\n",
    "4. Boolean and Categorical Values\n",
    "\n",
    "5. Coercing Datetimes (add_datepart), and handling na values\n",
    "\n",
    "6. Train and Score Initial Model \n",
    "\n",
    "7. Plot/Coerce Target Variable (optional)"
   ]
  },
  {
   "cell_type": "code",
   "execution_count": null,
   "metadata": {},
   "outputs": [],
   "source": []
  }
 ],
 "metadata": {
  "kernelspec": {
   "display_name": "Python 3",
   "language": "python",
   "name": "python3"
  },
  "language_info": {
   "codemirror_mode": {
    "name": "ipython",
    "version": 3
   },
   "file_extension": ".py",
   "mimetype": "text/x-python",
   "name": "python",
   "nbconvert_exporter": "python",
   "pygments_lexer": "ipython3",
   "version": "3.7.4"
  }
 },
 "nbformat": 4,
 "nbformat_minor": 4
}
