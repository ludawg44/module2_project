{
 "cells": [
  {
   "cell_type": "markdown",
   "metadata": {},
   "source": [
    "# Coercing Datetimes (add_datepart), and handling na values"
   ]
  },
  {
   "cell_type": "code",
   "execution_count": 1,
   "metadata": {},
   "outputs": [],
   "source": [
    "# Read in stored values\n",
    "\n",
    "%store -r df\n",
    "%store -r date_df\n",
    "%store -r cost_df"
   ]
  },
  {
   "cell_type": "code",
   "execution_count": null,
   "metadata": {},
   "outputs": [],
   "source": []
  },
  {
   "cell_type": "code",
   "execution_count": null,
   "metadata": {},
   "outputs": [],
   "source": []
  },
  {
   "cell_type": "code",
   "execution_count": null,
   "metadata": {},
   "outputs": [],
   "source": []
  },
  {
   "cell_type": "code",
   "execution_count": null,
   "metadata": {},
   "outputs": [],
   "source": []
  },
  {
   "cell_type": "code",
   "execution_count": null,
   "metadata": {},
   "outputs": [],
   "source": []
  },
  {
   "cell_type": "markdown",
   "metadata": {},
   "source": [
    "This is the link to incorporate [add_datepart](https://github.com/ludawg44/jigsawlabs/blob/master/21Apr20_Feature%20Engineering%20DateTimes.ipynb)"
   ]
  },
  {
   "cell_type": "markdown",
   "metadata": {},
   "source": [
    "Next up is train and score the initiial model. \n",
    "\n",
    "1. Target Value Identification and Exploration\n",
    "\n",
    "2. Identify Datetimes for Split\n",
    "\n",
    "3. Numerical Values and DateTime Values\n",
    "\n",
    "4. Boolean and Categorical Values\n",
    "\n",
    "5. Coercing Datetimes (add_datepart), and handling na values\n",
    "\n",
    "6.  **Train and Score Initial Model**\n",
    "\n",
    "7. Plot/Coerce Target Variable (optional)"
   ]
  },
  {
   "cell_type": "code",
   "execution_count": null,
   "metadata": {},
   "outputs": [],
   "source": []
  }
 ],
 "metadata": {
  "kernelspec": {
   "display_name": "Python 3",
   "language": "python",
   "name": "python3"
  },
  "language_info": {
   "codemirror_mode": {
    "name": "ipython",
    "version": 3
   },
   "file_extension": ".py",
   "mimetype": "text/x-python",
   "name": "python",
   "nbconvert_exporter": "python",
   "pygments_lexer": "ipython3",
   "version": "3.7.4"
  }
 },
 "nbformat": 4,
 "nbformat_minor": 4
}
